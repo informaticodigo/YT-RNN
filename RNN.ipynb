{
  "nbformat": 4,
  "nbformat_minor": 0,
  "metadata": {
    "colab": {
      "name": "Untitled2.ipynb",
      "provenance": [],
      "authorship_tag": "ABX9TyNmTGpjeqooEm6GUtQlMmvS"
    },
    "kernelspec": {
      "name": "python3",
      "display_name": "Python 3"
    },
    "language_info": {
      "name": "python"
    },
    "accelerator": "GPU",
    "gpuClass": "standard"
  },
  "cells": [
    {
      "cell_type": "code",
      "execution_count": null,
      "metadata": {
        "id": "RxlJDjEtOBtU"
      },
      "outputs": [],
      "source": [
        "import tensorflow as tf\n",
        "import numpy as np\n",
        "from keras.models import Sequential\n",
        "from keras.layers import Dense, Dropout, CuDNNLSTM\n",
        "\n",
        "(x_train, original_y_train), (x_test, original_y_test) = tf.keras.datasets.mnist.load_data()"
      ]
    },
    {
      "cell_type": "code",
      "source": [
        "translation_dict = {\n",
        "    '0': [1., 0., 0., 0., 0., 0., 0., 0., 0., 0.,],\n",
        "    '1': [0., 1., 0., 0., 0., 0., 0., 0., 0., 0.,],\n",
        "    '2': [0., 0., 1., 0., 0., 0., 0., 0., 0., 0.,],\n",
        "    '3': [0., 0., 0., 1., 0., 0., 0., 0., 0., 0.,],\n",
        "    '4': [0., 0., 0., 0., 1., 0., 0., 0., 0., 0.,],\n",
        "    '5': [0., 0., 0., 0., 0., 1., 0., 0., 0., 0.,],\n",
        "    '6': [0., 0., 0., 0., 0., 0., 1., 0., 0., 0.,],\n",
        "    '7': [0., 0., 0., 0., 0., 0., 0., 1., 0., 0.,],\n",
        "    '8': [0., 0., 0., 0., 0., 0., 0., 0., 1., 0.,],\n",
        "    '9': [0., 0., 0., 0., 0., 0., 0., 0., 0., 1.,]\n",
        "}\n",
        "\n",
        "y_train = np.empty((original_y_train.shape[0], 10), dtype=np.float32)\n",
        "i = 0\n",
        "for number in original_y_train:\n",
        "  y_train[i] = translation_dict[str(number)]\n",
        "  i += 1\n",
        "\n",
        "y_test = np.empty((original_y_test.shape[0], 10), dtype=np.float32)\n",
        "i = 0\n",
        "for number in original_y_test:\n",
        "  y_test[i] = translation_dict[str(number)]\n",
        "  i += 1"
      ],
      "metadata": {
        "id": "bXNfPPdaPWrg"
      },
      "execution_count": null,
      "outputs": []
    },
    {
      "cell_type": "code",
      "source": [
        "x_train = x_train/255.0\n",
        "x_test = x_test/255.0"
      ],
      "metadata": {
        "id": "d9fe1p5QPU2w"
      },
      "execution_count": null,
      "outputs": []
    },
    {
      "cell_type": "code",
      "source": [
        "from keras.layers import CuDNNGRU, SimpleRNN  # LSTM, GRU\n",
        "\n",
        "model = Sequential()\n",
        "model.add(CuDNNGRU(128, input_shape=(x_train.shape[1:]), return_sequences=True))       # model.add(GRU(128, activation='relu', input_shape=(x_train.shape[1:]), return_sequences=True))\n",
        "model.add(Dropout(0.2))\n",
        "model.add(CuDNNGRU(128))                                                               # model.add(GRU(128, activation='relu'))\n",
        "model.add(Dropout(0.2))\n",
        "model.add(Dense(32, activation='relu'))\n",
        "model.add(Dropout(0.2))\n",
        "model.add(Dense(10, activation='softmax'))\n",
        "\n",
        "# model = Sequential()\n",
        "# model.add(CuDNNLSTM(128, input_shape=(x_train.shape[1:]), return_sequences=True))    # model.add(LSTM(128, activation='relu', input_shape=(x_train.shape[1:]), return_sequences=True))\n",
        "# model.add(Dropout(0.2))\n",
        "# model.add(CuDNNLSTM(128))                                                            # model.add(LSTM(128, activation='relu'))\n",
        "# model.add(Dropout(0.2))\n",
        "# model.add(Dense(32, activation='relu'))\n",
        "# model.add(Dropout(0.2))\n",
        "# model.add(Dense(10, activation='softmax'))\n",
        "\n",
        "# model = Sequential()\n",
        "# model.add(SimpleRNN(128, input_shape=(x_train.shape[1:]), return_sequences=True))\n",
        "# model.add(Dropout(0.2))\n",
        "# model.add(SimpleRNN(128))\n",
        "# model.add(Dropout(0.2))\n",
        "# model.add(Dense(32, activation='relu'))\n",
        "# model.add(Dropout(0.2))\n",
        "# model.add(Dense(10, activation='softmax'))\n",
        "\n",
        "model.compile(loss='categorical_crossentropy', optimizer='adam', metrics=['accuracy'])\n",
        "hist = model.fit(x_train, y_train, batch_size=32, epochs=10, validation_data=(x_test, y_test))"
      ],
      "metadata": {
        "id": "uyLeWOCfRjfd"
      },
      "execution_count": null,
      "outputs": []
    },
    {
      "cell_type": "code",
      "source": [
        "import matplotlib.pyplot as plt\n",
        "plt.plot(hist.history['accuracy'])\n",
        "plt.plot(hist.history['val_accuracy'])\n",
        "plt.show()"
      ],
      "metadata": {
        "id": "bZlRNNyoR8DR"
      },
      "execution_count": null,
      "outputs": []
    },
    {
      "cell_type": "code",
      "source": [
        "model.save('model.h5')"
      ],
      "metadata": {
        "id": "IOHtAEQUR1SY"
      },
      "execution_count": null,
      "outputs": []
    }
  ]
}